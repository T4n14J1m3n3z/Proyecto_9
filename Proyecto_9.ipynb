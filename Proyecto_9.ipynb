{
 "cells": [
  {
   "cell_type": "markdown",
   "metadata": {},
   "source": [
    "# <center>**PROYECTO 9**</center>"
   ]
  },
  {
   "cell_type": "markdown",
   "metadata": {},
   "source": [
    "## Preparación de datos"
   ]
  },
  {
   "cell_type": "code",
   "execution_count": 1,
   "metadata": {},
   "outputs": [],
   "source": [
    "import pandas as pd\n",
    "import numpy as np\n",
    "from sklearn.model_selection import train_test_split\n",
    "from sklearn.tree import DecisionTreeClassifier\n",
    "import matplotlib.pyplot as plt\n",
    "from sklearn.linear_model import LogisticRegression\n",
    "from sklearn.metrics import accuracy_score, confusion_matrix, recall_score, precision_score, f1_score, roc_auc_score, roc_curve\n",
    "from sklearn.preprocessing import StandardScaler\n",
    "from sklearn.utils import shuffle"
   ]
  },
  {
   "cell_type": "code",
   "execution_count": 2,
   "metadata": {},
   "outputs": [
    {
     "name": "stdout",
     "output_type": "stream",
     "text": [
      "(10000, 14)\n",
      "\n",
      "\n",
      "<class 'pandas.core.frame.DataFrame'>\n",
      "RangeIndex: 10000 entries, 0 to 9999\n",
      "Data columns (total 14 columns):\n",
      " #   Column           Non-Null Count  Dtype  \n",
      "---  ------           --------------  -----  \n",
      " 0   RowNumber        10000 non-null  int64  \n",
      " 1   CustomerId       10000 non-null  int64  \n",
      " 2   Surname          10000 non-null  object \n",
      " 3   CreditScore      10000 non-null  int64  \n",
      " 4   Geography        10000 non-null  object \n",
      " 5   Gender           10000 non-null  object \n",
      " 6   Age              10000 non-null  int64  \n",
      " 7   Tenure           9091 non-null   float64\n",
      " 8   Balance          10000 non-null  float64\n",
      " 9   NumOfProducts    10000 non-null  int64  \n",
      " 10  HasCrCard        10000 non-null  int64  \n",
      " 11  IsActiveMember   10000 non-null  int64  \n",
      " 12  EstimatedSalary  10000 non-null  float64\n",
      " 13  Exited           10000 non-null  int64  \n",
      "dtypes: float64(3), int64(8), object(3)\n",
      "memory usage: 1.1+ MB\n",
      "\n",
      "\n",
      "   RowNumber  CustomerId   Surname  CreditScore Geography  Gender  Age  \\\n",
      "0          1    15634602  Hargrave          619    France  Female   42   \n",
      "1          2    15647311      Hill          608     Spain  Female   41   \n",
      "2          3    15619304      Onio          502    France  Female   42   \n",
      "3          4    15701354      Boni          699    France  Female   39   \n",
      "4          5    15737888  Mitchell          850     Spain  Female   43   \n",
      "\n",
      "   Tenure    Balance  NumOfProducts  HasCrCard  IsActiveMember  \\\n",
      "0     2.0       0.00              1          1               1   \n",
      "1     1.0   83807.86              1          0               1   \n",
      "2     8.0  159660.80              3          1               0   \n",
      "3     1.0       0.00              2          0               0   \n",
      "4     2.0  125510.82              1          1               1   \n",
      "\n",
      "   EstimatedSalary  Exited  \n",
      "0        101348.88       1  \n",
      "1        112542.58       0  \n",
      "2        113931.57       1  \n",
      "3         93826.63       0  \n",
      "4         79084.10       0  \n"
     ]
    }
   ],
   "source": [
    "df = pd.read_csv('/datasets/Churn.csv')\n",
    "print(df.shape)\n",
    "print('\\n')\n",
    "df.info()\n",
    "print('\\n')\n",
    "print(df.head(5))"
   ]
  },
  {
   "cell_type": "code",
   "execution_count": 3,
   "metadata": {},
   "outputs": [
    {
     "name": "stdout",
     "output_type": "stream",
     "text": [
      "[ 2.  1.  8.  7.  4.  6.  3. 10.  5.  9.  0. nan]\n"
     ]
    }
   ],
   "source": [
    "print(df['Tenure'].unique())"
   ]
  },
  {
   "cell_type": "markdown",
   "metadata": {},
   "source": [
    "### Comentarios\n",
    "\n",
    "En la información anterior, obtuvimos que en la columna 'Tenure' existen valores 'nan' y debido a la naturaleza de los datos no podemos rellenarlos con medias ni con medianas ya que serían datos incorrectos y podrían guiar a nuestro algoritmo en otra dirección, así que se llenaran con '0' para que al entrenar los datos no existan errores de lectura. "
   ]
  },
  {
   "cell_type": "code",
   "execution_count": 4,
   "metadata": {},
   "outputs": [],
   "source": [
    "df['Tenure'].fillna(0, inplace=True)"
   ]
  },
  {
   "cell_type": "code",
   "execution_count": 5,
   "metadata": {},
   "outputs": [
    {
     "name": "stdout",
     "output_type": "stream",
     "text": [
      "<class 'pandas.core.frame.DataFrame'>\n",
      "RangeIndex: 10000 entries, 0 to 9999\n",
      "Data columns (total 14 columns):\n",
      " #   Column           Non-Null Count  Dtype  \n",
      "---  ------           --------------  -----  \n",
      " 0   RowNumber        10000 non-null  int64  \n",
      " 1   CustomerId       10000 non-null  int64  \n",
      " 2   Surname          10000 non-null  object \n",
      " 3   CreditScore      10000 non-null  int64  \n",
      " 4   Geography        10000 non-null  object \n",
      " 5   Gender           10000 non-null  object \n",
      " 6   Age              10000 non-null  int64  \n",
      " 7   Tenure           10000 non-null  float64\n",
      " 8   Balance          10000 non-null  float64\n",
      " 9   NumOfProducts    10000 non-null  int64  \n",
      " 10  HasCrCard        10000 non-null  int64  \n",
      " 11  IsActiveMember   10000 non-null  int64  \n",
      " 12  EstimatedSalary  10000 non-null  float64\n",
      " 13  Exited           10000 non-null  int64  \n",
      "dtypes: float64(3), int64(8), object(3)\n",
      "memory usage: 1.1+ MB\n"
     ]
    }
   ],
   "source": [
    "df.info()"
   ]
  },
  {
   "cell_type": "markdown",
   "metadata": {},
   "source": [
    "<div class=\"alert alert-block alert-success\">\n",
    "<b>Comentario del Revisor</b> <a class=“tocSkip”></a>\n",
    "La verificación de valores ausentes te ayuda a comprender mejor tus datos y tomar decisiones informadas sobre cómo imputarlos. Recuerda siempre calcular el porcentaje de valores ausentes, ya que esto te dará una idea clara de su impacto en tu conjunto de datos. Sigue adelante con tu excelente trabajo y continúa explorando técnicas para mejorar tus análisis.\n",
    "</div>"
   ]
  },
  {
   "cell_type": "markdown",
   "metadata": {},
   "source": [
    "### Asignación de datos de entrenamiento y validación"
   ]
  },
  {
   "cell_type": "code",
   "execution_count": 6,
   "metadata": {},
   "outputs": [],
   "source": [
    "# Aplicación de OHE a df\n",
    "data = pd.get_dummies(df, drop_first=True)\n",
    "\n",
    "# Asignación de características y objetivos al dataset original para su división.\n",
    "features_OHE = data.drop(['Exited'], axis=1)\n",
    "target_OHE = data['Exited']\n",
    "\n",
    "# Dividir el conjunto de entrenamiento en conjunto de entrenamiento y validación\n",
    "train_features_OHE, valid_features_OHE, train_target_OHE, valid_target_OHE = train_test_split(\n",
    "    features_OHE, target_OHE, test_size=0.25, random_state=98765)"
   ]
  },
  {
   "cell_type": "markdown",
   "metadata": {},
   "source": [
    "## Revisión de equilibrio de clases\n",
    "\n",
    "A continuación se realiza el conteo de ceros y unos en el objetivo de nuestro modelo."
   ]
  },
  {
   "cell_type": "code",
   "execution_count": 7,
   "metadata": {},
   "outputs": [
    {
     "name": "stdout",
     "output_type": "stream",
     "text": [
      "La fracción de ceros en la columna 'Exited' es de: 0.80\n",
      "La fracción de unos en la columna 'Exited' es de: 0.20\n"
     ]
    },
    {
     "data": {
      "text/plain": [
       "<AxesSubplot:>"
      ]
     },
     "execution_count": 7,
     "metadata": {},
     "output_type": "execute_result"
    },
    {
     "data": {
      "image/png": "[encoded data removed]",
      "text/plain": [
       "<Figure size 432x288 with 1 Axes>"
      ]
     },
     "metadata": {
      "needs_background": "light"
     },
     "output_type": "display_data"
    }
   ],
   "source": [
    "class_frequency = df['Exited'].value_counts(normalize=True)\n",
    "print(f\"La fracción de ceros en la columna 'Exited' es de: {\n",
    "      class_frequency[0]:.2f}\\nLa fracción de unos en la columna 'Exited' es de: {class_frequency[1]:.2f}\")\n",
    "class_frequency.plot(kind='bar', color='darkslategray')"
   ]
  },
  {
   "cell_type": "markdown",
   "metadata": {},
   "source": [
    "### Entrenamiento de modelo\n",
    "Sin tomar en cuenta el desequilibrio de clases. A continuación se presenta el entrenamiento del modelo con árbol de decisiones."
   ]
  },
  {
   "cell_type": "code",
   "execution_count": 8,
   "metadata": {},
   "outputs": [
    {
     "name": "stdout",
     "output_type": "stream",
     "text": [
      "la exactitud de predicción del modelo de validación es de: 0.8224\n"
     ]
    }
   ],
   "source": [
    "model = DecisionTreeClassifier(random_state=98765)\n",
    "model.fit(train_features_OHE, train_target_OHE)\n",
    "predicted_valid_OHE = model.predict(valid_features_OHE)\n",
    "\n",
    "accuracy_valid_OHE = accuracy_score(valid_target_OHE, predicted_valid_OHE)\n",
    "print('la exactitud de predicción del modelo de validación es de:', accuracy_valid_OHE)"
   ]
  },
  {
   "cell_type": "code",
   "execution_count": 9,
   "metadata": {},
   "outputs": [
    {
     "name": "stdout",
     "output_type": "stream",
     "text": [
      "Matriz de confusión:\n",
      "[[1792  200]\n",
      " [ 244  264]]\n",
      "\n",
      "Recall: 0.52\n",
      "Precisión: 0.57\n",
      "F1: 0.54\n"
     ]
    }
   ],
   "source": [
    "matrix = confusion_matrix(valid_target_OHE, predicted_valid_OHE)\n",
    "recall = recall_score(valid_target_OHE, predicted_valid_OHE)\n",
    "precision = precision_score(valid_target_OHE, predicted_valid_OHE)\n",
    "F1 = f1_score(valid_target_OHE, predicted_valid_OHE)\n",
    "\n",
    "\n",
    "print(f'Matriz de confusión:\\n{matrix}\\n')\n",
    "print(f'Recall:{recall: .2f}')\n",
    "print(f'Precisión:{precision: .2f}')\n",
    "print(f'F1:{F1: .2f}')"
   ]
  },
  {
   "cell_type": "markdown",
   "metadata": {},
   "source": [
    "### Observaciones:\n",
    "\n",
    "La predicción del modelo tienen un porcentaje alto de exactitud del 82%. \n",
    "Éste valor no significa que sea un buen modelo ya que al momento de revisar el balance de clase nos da un resultado de 80-20; 80% de ceros y 20% de unos. \n",
    "Siendo el uno el valor que queremos identificar ya que nos indica los clientes que abandonaron el banco. El siguiente paso fue identificar que tan bueno es el modelo para identificar el uno: \n",
    "- Tiene un recall de 0.52, un valor no muy bueno para identificar los verdaderos positivos, ya que esta muy alejado del uno. \n",
    "- Tiene una precision de 0.57, muy parecido al del recall lo que significa que, el reconocimiento de negativos y positivos esta a medio camino de ser preciso.  \n",
    "- con un valor F1 de 0.54 nos indica que el modelo tiene un equilibrio razonable entre la precisión y la sensibilidad. El modelo es capaz de clasificar correctamente un porcentaje considerable de instancias tanto de la clase positiva como de la clase negativa, aunque lejos de ser ideal.\n",
    "\n",
    "Para poder aumentar los valores, será necesario balancear las clases y tocar algunas características para llegar al valor deseado. "
   ]
  },
  {
   "cell_type": "markdown",
   "metadata": {},
   "source": [
    "## Mejorar la calidad del modelo"
   ]
  },
  {
   "cell_type": "markdown",
   "metadata": {},
   "source": [
    "### Técnicas para tratar el desequilibrio de clases\n",
    "\n",
    "Los modelos con los que se trabajará serán: LogisticRegression y DecisionTreeClassifier por lo que el siguiente paso se estandarizarán las características ya que las columnas númericas tienen la misma importancia independientemente de su valor."
   ]
  },
  {
   "cell_type": "code",
   "execution_count": 10,
   "metadata": {},
   "outputs": [
    {
     "name": "stderr",
     "output_type": "stream",
     "text": [
      "/tmp/ipykernel_454/1426126178.py:4: SettingWithCopyWarning: \n",
      "A value is trying to be set on a copy of a slice from a DataFrame.\n",
      "Try using .loc[row_indexer,col_indexer] = value instead\n",
      "\n",
      "See the caveats in the documentation: https://pandas.pydata.org/pandas-docs/stable/user_guide/indexing.html#returning-a-view-versus-a-copy\n",
      "  train_features_OHE[numeric] = scaler.fit_transform(train_features_OHE[numeric])\n",
      "/opt/conda/lib/python3.9/site-packages/pandas/core/indexing.py:1738: SettingWithCopyWarning: \n",
      "A value is trying to be set on a copy of a slice from a DataFrame.\n",
      "Try using .loc[row_indexer,col_indexer] = value instead\n",
      "\n",
      "See the caveats in the documentation: https://pandas.pydata.org/pandas-docs/stable/user_guide/indexing.html#returning-a-view-versus-a-copy\n",
      "  self._setitem_single_column(loc, value[:, i].tolist(), pi)\n",
      "/tmp/ipykernel_454/1426126178.py:5: SettingWithCopyWarning: \n",
      "A value is trying to be set on a copy of a slice from a DataFrame.\n",
      "Try using .loc[row_indexer,col_indexer] = value instead\n",
      "\n",
      "See the caveats in the documentation: https://pandas.pydata.org/pandas-docs/stable/user_guide/indexing.html#returning-a-view-versus-a-copy\n",
      "  valid_features_OHE[numeric] = scaler.transform(valid_features_OHE[numeric])\n",
      "/opt/conda/lib/python3.9/site-packages/pandas/core/indexing.py:1738: SettingWithCopyWarning: \n",
      "A value is trying to be set on a copy of a slice from a DataFrame.\n",
      "Try using .loc[row_indexer,col_indexer] = value instead\n",
      "\n",
      "See the caveats in the documentation: https://pandas.pydata.org/pandas-docs/stable/user_guide/indexing.html#returning-a-view-versus-a-copy\n",
      "  self._setitem_single_column(loc, value[:, i].tolist(), pi)\n"
     ]
    }
   ],
   "source": [
    "numeric = ['CreditScore', 'Age', 'Tenure', 'Balance',\n",
    "           'NumOfProducts', 'HasCrCard', 'IsActiveMember', 'EstimatedSalary']\n",
    "scaler = StandardScaler()\n",
    "\n",
    "train_features_OHE[numeric] = scaler.fit_transform(train_features_OHE[numeric])\n",
    "valid_features_OHE[numeric] = scaler.transform(valid_features_OHE[numeric])"
   ]
  },
  {
   "cell_type": "markdown",
   "metadata": {},
   "source": [
    "### Uso de sobremuestreo en regresión linear"
   ]
  },
  {
   "cell_type": "code",
   "execution_count": 11,
   "metadata": {},
   "outputs": [
    {
     "name": "stdout",
     "output_type": "stream",
     "text": [
      "F1: 0.34\n",
      "AUC_ROC: 0.51\n"
     ]
    }
   ],
   "source": [
    "features_zeros = train_features_OHE[train_target_OHE == 0]\n",
    "features_ones = train_features_OHE[train_target_OHE == 1]\n",
    "target_zeros = train_target_OHE[train_target_OHE == 0]\n",
    "target_ones = train_target_OHE[train_target_OHE == 1]\n",
    "\n",
    "features_upsampled = pd.concat([features_zeros] + [features_ones] * 6)\n",
    "target_upsampled = pd.concat([target_zeros] + [target_ones] * 6)\n",
    "\n",
    "features_upsampled, target_upsampled = shuffle(\n",
    "    features_upsampled, target_upsampled, random_state=98765)\n",
    "\n",
    "model_R = LogisticRegression(solver='liblinear', random_state=98765)\n",
    "model_R.fit(features_upsampled, target_upsampled)\n",
    "predicted_valid_R = model_R.predict(valid_features_OHE)\n",
    "\n",
    "f1 = f1_score(valid_target_OHE, predicted_valid_R)\n",
    "\n",
    "print(f'F1: {f1:.2f}')\n",
    "\n",
    "# Valor AUC-ROC\n",
    "\n",
    "probabilities_valid_R = model_R.predict_proba(valid_features_OHE)\n",
    "probabilities_one_valid_R = probabilities_valid_R[:, 1]\n",
    "auc_roc = roc_auc_score(valid_target_OHE, probabilities_one_valid_R)\n",
    "\n",
    "print(f'AUC_ROC: {auc_roc:.2f}')"
   ]
  },
  {
   "cell_type": "markdown",
   "metadata": {},
   "source": [
    "### Uso de sobremuestreo en árbol de decisiones"
   ]
  },
  {
   "cell_type": "code",
   "execution_count": 12,
   "metadata": {},
   "outputs": [
    {
     "name": "stdout",
     "output_type": "stream",
     "text": [
      "F1: 0.591\n",
      "AUC_ROC: 0.76\n"
     ]
    }
   ],
   "source": [
    "model_L = DecisionTreeClassifier(random_state=98765)\n",
    "model_L.fit(features_upsampled, target_upsampled)\n",
    "predicted_valid_L = model_L.predict(valid_features_OHE)\n",
    "\n",
    "f1 = f1_score(valid_target_OHE, predicted_valid_L)\n",
    "\n",
    "print(f'F1: {f1:.3f}')\n",
    "\n",
    "# Valor AUC-ROC\n",
    "\n",
    "probabilities_valid_L = model_L.predict_proba(valid_features_OHE)\n",
    "probabilities_one_valid_L = probabilities_valid_L[:, 1]\n",
    "auc_roc = roc_auc_score(valid_target_OHE, probabilities_one_valid_L)\n",
    "\n",
    "print(f'AUC_ROC: {auc_roc:.2f}')"
   ]
  },
  {
   "cell_type": "markdown",
   "metadata": {},
   "source": [
    "### Ajuste de umbral en regresión linear"
   ]
  },
  {
   "cell_type": "code",
   "execution_count": 13,
   "metadata": {},
   "outputs": [
    {
     "name": "stdout",
     "output_type": "stream",
     "text": [
      "Threshold = 0.00 | F1 = 0.338\n",
      "Threshold = 0.02 | F1 = 0.338\n",
      "Threshold = 0.04 | F1 = 0.338\n",
      "Threshold = 0.06 | F1 = 0.338\n",
      "Threshold = 0.08 | F1 = 0.338\n",
      "Threshold = 0.10 | F1 = 0.338\n",
      "Threshold = 0.12 | F1 = 0.338\n",
      "Threshold = 0.14 | F1 = 0.338\n",
      "Threshold = 0.16 | F1 = 0.338\n",
      "Threshold = 0.18 | F1 = 0.338\n",
      "Threshold = 0.20 | F1 = 0.338\n",
      "Threshold = 0.22 | F1 = 0.000\n",
      "Threshold = 0.24 | F1 = 0.000\n",
      "Threshold = 0.26 | F1 = 0.000\n",
      "Threshold = 0.28 | F1 = 0.000\n"
     ]
    }
   ],
   "source": [
    "model_UL = LogisticRegression(random_state=98765, solver='liblinear')\n",
    "model_UL.fit(train_features_OHE, train_target_OHE)\n",
    "probabilities_valid_UL = model_UL.predict_proba(valid_features_OHE)\n",
    "probabilities_one_valid = probabilities_valid_UL[:, 1]\n",
    "\n",
    "for threshold in np.arange(0, 0.3, 0.02):\n",
    "    predicted_valid_UL = probabilities_one_valid > threshold\n",
    "    f1 = f1_score(valid_target_OHE, predicted_valid_UL)\n",
    "\n",
    "    print('Threshold = {:.2f} | F1 = {:.3f}'.format(threshold, f1))"
   ]
  },
  {
   "cell_type": "markdown",
   "metadata": {},
   "source": [
    "viendo que el umbral mas alto sin perder valor de F1 ES 0.2, se calcula AUC-ROC con el umbral a 0.2"
   ]
  },
  {
   "cell_type": "code",
   "execution_count": 14,
   "metadata": {},
   "outputs": [
    {
     "name": "stdout",
     "output_type": "stream",
     "text": [
      "AUC-ROC: 0.49126130506277077\n"
     ]
    }
   ],
   "source": [
    "\n",
    "# Aplicar el umbral de 0.2 a las probabilidades\n",
    "predicted_valid_UL = probabilities_one_valid > 0.2\n",
    "\n",
    "# Calcular el AUC-ROC utilizando las etiquetas verdaderas y las probabilidades de clase\n",
    "auc_roc = roc_auc_score(valid_target_OHE, probabilities_one_valid)\n",
    "\n",
    "print('AUC-ROC:', auc_roc)"
   ]
  },
  {
   "cell_type": "markdown",
   "metadata": {},
   "source": [
    "### Ajuste de umbral en en árbol de decisiones"
   ]
  },
  {
   "cell_type": "code",
   "execution_count": 15,
   "metadata": {},
   "outputs": [
    {
     "name": "stdout",
     "output_type": "stream",
     "text": [
      "Threshold = 0.00 | F1 = 0.543\n",
      "Threshold = 0.02 | F1 = 0.543\n",
      "Threshold = 0.04 | F1 = 0.543\n",
      "Threshold = 0.06 | F1 = 0.543\n",
      "Threshold = 0.08 | F1 = 0.543\n",
      "Threshold = 0.10 | F1 = 0.543\n",
      "Threshold = 0.12 | F1 = 0.543\n",
      "Threshold = 0.14 | F1 = 0.543\n",
      "Threshold = 0.16 | F1 = 0.543\n",
      "Threshold = 0.18 | F1 = 0.543\n",
      "Threshold = 0.20 | F1 = 0.543\n",
      "Threshold = 0.22 | F1 = 0.543\n",
      "Threshold = 0.24 | F1 = 0.543\n",
      "Threshold = 0.26 | F1 = 0.543\n",
      "Threshold = 0.28 | F1 = 0.543\n",
      "Threshold = 0.30 | F1 = 0.543\n",
      "Threshold = 0.32 | F1 = 0.543\n",
      "Threshold = 0.34 | F1 = 0.543\n",
      "Threshold = 0.36 | F1 = 0.543\n",
      "Threshold = 0.38 | F1 = 0.543\n",
      "Threshold = 0.40 | F1 = 0.543\n",
      "Threshold = 0.42 | F1 = 0.543\n",
      "Threshold = 0.44 | F1 = 0.543\n",
      "Threshold = 0.46 | F1 = 0.543\n",
      "Threshold = 0.48 | F1 = 0.543\n"
     ]
    }
   ],
   "source": [
    "model_UT = DecisionTreeClassifier(random_state=98765)\n",
    "model_UT.fit(train_features_OHE, train_target_OHE)\n",
    "probabilities_valid_UT = model_UT.predict_proba(valid_features_OHE)\n",
    "probabilities_one_valid = probabilities_valid_UT[:, 1]\n",
    "\n",
    "for threshold in np.arange(0, 0.5, 0.02):\n",
    "    predicted_valid_UT = probabilities_one_valid > threshold\n",
    "    f1 = f1_score(valid_target_OHE, predicted_valid_UT)\n",
    "\n",
    "    print('Threshold = {:.2f} | F1 = {:.3f}'.format(threshold, f1))"
   ]
  },
  {
   "cell_type": "markdown",
   "metadata": {},
   "source": [
    "Aqui podemos apreciar de que el cambio de umbral no hace ninguna diferencia"
   ]
  },
  {
   "cell_type": "code",
   "execution_count": 16,
   "metadata": {},
   "outputs": [
    {
     "name": "stdout",
     "output_type": "stream",
     "text": [
      "AUC-ROC: 0.709641716472188\n"
     ]
    }
   ],
   "source": [
    "\n",
    "# Aplicar el umbral de 0.2 a las probabilidades\n",
    "predicted_valid_UT = probabilities_one_valid > 0.2\n",
    "\n",
    "# Calcular el AUC-ROC utilizando las etiquetas verdaderas y las probabilidades de clase\n",
    "auc_roc = roc_auc_score(valid_target_OHE, probabilities_one_valid)\n",
    "\n",
    "print('AUC-ROC:', auc_roc)"
   ]
  },
  {
   "cell_type": "markdown",
   "metadata": {},
   "source": [
    "### Observaciones:\n",
    "\n",
    "Ahora que tenemos todos los datos a la mano podemos ver que el mejor modelo que pudo llegar a un valor F1 de 0.59 fue un sobremuestreo con árbol de decisiones y al compararlo con su valor AUC-ROC  fue de 0.76, siendo éste el mas alto de todos tambien. \n",
    "Las pruebas con el cambio de umbral fueron muy bajas en ambos, siendo el modelo seleccionado el mayor por exelencia. Éste dato nos dice que el modelo tiene la capacidad de diferenciar entre valores negativos y positivos. \n"
   ]
  },
  {
   "cell_type": "markdown",
   "metadata": {},
   "source": [
    "## Prueba final\n",
    "\n",
    "### Sobre muestreo con árbol de decisiones.\n",
    "\n",
    "Con el modelo definitivo se tomarán todas las características para análisis final."
   ]
  },
  {
   "cell_type": "code",
   "execution_count": 17,
   "metadata": {},
   "outputs": [
    {
     "name": "stdout",
     "output_type": "stream",
     "text": [
      "Matriz de confusión:\n",
      "[[1699  293]\n",
      " [ 172  336]]\n",
      "\n",
      "Recall: 0.66\n",
      "Precisión: 0.53\n",
      "F1: 0.59\n",
      "AUC_ROC: 0.76\n"
     ]
    }
   ],
   "source": [
    "# el modelo ganador fue: model_L con su predicción: predicted_valid_L\n",
    "\n",
    "matrix = confusion_matrix(valid_target_OHE, predicted_valid_L)\n",
    "recall = recall_score(valid_target_OHE, predicted_valid_L)\n",
    "precision = precision_score(valid_target_OHE, predicted_valid_L)\n",
    "F1 = f1_score(valid_target_OHE, predicted_valid_L)\n",
    "auc_roc = roc_auc_score(valid_target_OHE, probabilities_one_valid_L)\n",
    "\n",
    "print(f'Matriz de confusión:\\n{matrix}\\n')\n",
    "print(f'Recall:{recall: .2f}')\n",
    "print(f'Precisión:{precision: .2f}')\n",
    "print(f'F1:{F1: .2f}')\n",
    "print(f'AUC_ROC: {auc_roc:.2f}')"
   ]
  },
  {
   "cell_type": "code",
   "execution_count": 18,
   "metadata": {},
   "outputs": [
    {
     "data": {
      "image/png": "[encoded data removed]",
      "text/plain": [
       "<Figure size 720x360 with 1 Axes>"
      ]
     },
     "metadata": {
      "needs_background": "light"
     },
     "output_type": "display_data"
    }
   ],
   "source": [
    "fpr, tpr, thresholds = roc_curve(valid_target_OHE, probabilities_one_valid_L)\n",
    "\n",
    "plt.figure(figsize=(10, 5))\n",
    "\n",
    "# Curva ROC para modelo aleatorio\n",
    "plt.plot([0, 1], [0, 1], linestyle='--', label='Modelo Aleatorio')\n",
    "\n",
    "# Curva ROC para el modelo\n",
    "plt.plot(fpr, tpr, label='Modelo_L')\n",
    "\n",
    "plt.xlim([0.0, 1.0])\n",
    "plt.ylim([0.0, 1.0])\n",
    "plt.xlabel('Tasa de falsos positivos')\n",
    "plt.ylabel('Tasa de verdaderos positivos')\n",
    "plt.title('Curva ROC')\n",
    "plt.legend()\n",
    "plt.show()"
   ]
  },
  {
   "cell_type": "markdown",
   "metadata": {},
   "source": [
    "## Conclusión:\n",
    "\n",
    "Como podemos ver en la prueba final, los valores obtenidos para el F1 cumplieron con el objetivo de ejercicio, que fue de llegarlo al 0.59.\n",
    "Esto quiere decir que hay un equilibrio entre recall y precisión y el modelo tiene muy buenas oportunidades de poder identificar los negativos y positivos.\n",
    "El uso del sobremuestreo fue decisión personal ya que creo que un modelo se encuentra mejor entrenado cuando tiene mas datos, en vez de quitarle. Mientras mas información, mas material para trabajar. \n",
    "La ausencia de positivos hizo mas interesante el ejercicio y aunque no tenemos un valor F1 tan alto como en otros modelos, podemos decir con seguridad de que se esta acercando más el objetivo de pronosticar los clientes que estan a punto de salir del sistema en definitiva. \n",
    "\n",
    "Ahora, en la curva ROC, podemos ver que el valor que tenemos de 0.76 nos muestra un estado donde se identifican mas verdaderos positivos con una mínima preocupación de obtener un falso positivo. \n",
    "\n",
    "El objetivo del ejercicio cumplió con su objetivo y en el camino vimos que el método mas apropiado para resolverlo fue con árbol de decisiones. "
   ]
  },
  {
   "cell_type": "markdown",
   "metadata": {},
   "source": [
    "<div class=\"alert alert-block alert-success\">\n",
    "<b>Comentario del revisor</b> <a class=\"tocSkip\"></a>\n",
    "\n",
    "¡Excelente trabajo en este proyecto! 🎉 **Has cumplido con todos los requisitos para la aprobación.**<br>\n",
    "Tu destreza en la ejecución y presentación de este análisis es notable.<br>\n",
    "<br>Es un honor destacar tu esfuerzo y el profundo nivel de análisis que has aplicado aquí. Sigue esforzándote y alcanzando nuevas alturas en tus próximos proyectos. Estoy seguro de que este conocimiento te servirá bien y te impulsará hacia retos aún mayores en el futuro.\n",
    "</div>\n"
   ]
  }
 ],
 "metadata": {
  "kernelspec": {
   "display_name": "Python 3 (ipykernel)",
   "language": "python",
   "name": "python3"
  },
  "language_info": {
   "codemirror_mode": {
    "name": "ipython",
    "version": 3
   },
   "file_extension": ".py",
   "mimetype": "text/x-python",
   "name": "python",
   "nbconvert_exporter": "python",
   "pygments_lexer": "ipython3",
   "version": "3.9.19"
  },
  "toc": {
   "base_numbering": 1,
   "nav_menu": {},
   "number_sections": true,
   "sideBar": true,
   "skip_h1_title": true,
   "title_cell": "Table of Contents",
   "title_sidebar": "Contents",
   "toc_cell": false,
   "toc_position": {},
   "toc_section_display": true,
   "toc_window_display": false
  }
 },
 "nbformat": 4,
 "nbformat_minor": 2
}
